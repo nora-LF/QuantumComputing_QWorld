{
 "cells": [
  {
   "cell_type": "markdown",
   "metadata": {},
   "source": [
    "<table width=\"100%\"> <tr>\n",
    "        <td  style=\"background-color:#ffffff;\">\n",
    "            <a href=\"https://qsoftware.lu.lv/index.php/qworld/\" target=\"_blank\"><img src=\"../images/qworld.jpg\" width=\"35%\" align=\"left\"> </a></td>\n",
    "        <td style=\"background-color:#ffffff;vertical-align:bottom;text-align:right;\">\n",
    "            prepared by Abuzer Yakaryilmaz (<a href=\"http://qworld.lu.lv/index.php/qlatvia/\" target=\"_blank\">QLatvia</a>)\n",
    "        </td>        \n",
    "</tr></table>"
   ]
  },
  {
   "cell_type": "markdown",
   "metadata": {},
   "source": [
    "<table width=\"100%\"><tr><td style=\"color:#bbbbbb;background-color:#ffffff;font-size:11px;font-style:italic;text-align:right;\">This cell contains some macros. If there is a problem with displaying mathematical formulas, please run this cell to load these macros. </td></tr></table>\n",
    "$ \\newcommand{\\bra}[1]{\\langle #1|} $\n",
    "$ \\newcommand{\\ket}[1]{|#1\\rangle} $\n",
    "$ \\newcommand{\\braket}[2]{\\langle #1|#2\\rangle} $\n",
    "$ \\newcommand{\\dot}[2]{ #1 \\cdot #2} $\n",
    "$ \\newcommand{\\biginner}[2]{\\left\\langle #1,#2\\right\\rangle} $\n",
    "$ \\newcommand{\\mymatrix}[2]{\\left( \\begin{array}{#1} #2\\end{array} \\right)} $\n",
    "$ \\newcommand{\\myvector}[1]{\\mymatrix{c}{#1}} $\n",
    "$ \\newcommand{\\myrvector}[1]{\\mymatrix{r}{#1}} $\n",
    "$ \\newcommand{\\mypar}[1]{\\left( #1 \\right)} $\n",
    "$ \\newcommand{\\mybigpar}[1]{ \\Big( #1 \\Big)} $\n",
    "$ \\newcommand{\\sqrttwo}{\\frac{1}{\\sqrt{2}}} $\n",
    "$ \\newcommand{\\dsqrttwo}{\\dfrac{1}{\\sqrt{2}}} $\n",
    "$ \\newcommand{\\onehalf}{\\frac{1}{2}} $\n",
    "$ \\newcommand{\\donehalf}{\\dfrac{1}{2}} $\n",
    "$ \\newcommand{\\hadamard}{ \\mymatrix{rr}{ \\sqrttwo & \\sqrttwo \\\\ \\sqrttwo & -\\sqrttwo }} $\n",
    "$ \\newcommand{\\vzero}{\\myvector{1\\\\0}} $\n",
    "$ \\newcommand{\\vone}{\\myvector{0\\\\1}} $\n",
    "$ \\newcommand{\\vhadamardzero}{\\myvector{ \\sqrttwo \\\\  \\sqrttwo } } $\n",
    "$ \\newcommand{\\vhadamardone}{ \\myrvector{ \\sqrttwo \\\\ -\\sqrttwo } } $\n",
    "$ \\newcommand{\\myarray}[2]{ \\begin{array}{#1}#2\\end{array}} $\n",
    "$ \\newcommand{\\X}{ \\mymatrix{cc}{0 & 1 \\\\ 1 & 0}  } $\n",
    "$ \\newcommand{\\Z}{ \\mymatrix{rr}{1 & 0 \\\\ 0 & -1}  } $\n",
    "$ \\newcommand{\\Htwo}{ \\mymatrix{rrrr}{ \\frac{1}{2} & \\frac{1}{2} & \\frac{1}{2} & \\frac{1}{2} \\\\ \\frac{1}{2} & -\\frac{1}{2} & \\frac{1}{2} & -\\frac{1}{2} \\\\ \\frac{1}{2} & \\frac{1}{2} & -\\frac{1}{2} & -\\frac{1}{2} \\\\ \\frac{1}{2} & -\\frac{1}{2} & -\\frac{1}{2} & \\frac{1}{2} } } $\n",
    "$ \\newcommand{\\CNOT}{ \\mymatrix{cccc}{1 & 0 & 0 & 0 \\\\ 0 & 1 & 0 & 0 \\\\ 0 & 0 & 0 & 1 \\\\ 0 & 0 & 1 & 0} } $\n",
    "$ \\newcommand{\\norm}[1]{ \\left\\lVert #1 \\right\\rVert } $"
   ]
  },
  {
   "cell_type": "markdown",
   "metadata": {},
   "source": [
    "<h2> A Game with two biased coins </h2>\n",
    "\n",
    "[Watch Lecture](https://youtu.be/k0OJvv7AAgU)\n",
    "\n",
    "Our friend Asja has one euro and one cent. \n",
    "\n",
    "Both coins are biased, and the probabilities of getting heads and tails are as follows:\n",
    "<ul>\n",
    "    <li> one euro: heads with probability $ 0.6 $ and tails with probability $ 0.4 $. </li>\n",
    "    <li> one cent: heads with probability $ 0.3 $ and tails with probability $ 0.7 $. </li>\n",
    "</ul>\n",
    "\n",
    "Asja flips her coins based on the following <b>protocol</b>: \n",
    "<ol> \n",
    "    <li> she starts with flipping one euro[*]. </li>\n",
    "    <li> whenever she gets heads, she flips one euro in the next step; </li>\n",
    "    <li> whenever she gets tails, she flips one cent in the next step; and </li>\n",
    "</ol>\n",
    "\n",
    "By using a single bit, we summarize all possible transitions of this game as follows:\n",
    "\n",
    "$\n",
    "GameCoins = \\begin{array}{c|cc} & \\mathbf{Head} & \\mathbf{Tail} \\\\ \\hline \\mathbf{Head} & 0.6 & 0.3\\\\  \\mathbf{Tail} & 0.4 & 0.7  \\end{array} = \\begin{array}{c|cc} & \\mathbf{0} & \\mathbf{1} \\\\ \\hline \\mathbf{0} & 0.6 & 0.3 \\\\  \\mathbf{1} & 0.4 & 0.7  \\end{array}\n",
    "$\n",
    "\n",
    "[*] We should fix an initial condition. Otherwise, Asja cannot pick any of the coins at the beginning of game."
   ]
  },
  {
   "cell_type": "markdown",
   "metadata": {},
   "source": [
    "<h3>Task 1: Convince yourself </h3>\n",
    "\n",
    "Convince yourself about the correctness of transitions given in the table.\n",
    "\n",
    "<i> Remark that there is no difference between getting heads from one euro or getting heads from one cent.\n",
    "    \n",
    "Therefore, one bit is enough to represent all transitions.\n",
    "</i>"
   ]
  },
  {
   "cell_type": "markdown",
   "metadata": {},
   "source": [
    "<h3> Tracing Asja's three coin tosses </h3>\n",
    "\n",
    "Suppose that Asja <b>secretly</b> tosses her coins based on the defined protocol.\n",
    "\n",
    "By using python, we can calculate the probabilities of Asja seeing heads and tails after three coin tosses.\n",
    "\n",
    "<i><b>Remark:</b> In the previous tasks of [Coin Flipping](B06_Coin_Flip.ipynb), we know the ideal ratios, and we experiment many coin tosses and then expect to observe the results close to the ideal ratios.\n",
    "    \n",
    "Here we calculate the exact probabilities (the ideal ratio) by using python. (We will not do the experiments as in the previous tasks.)\n",
    "</i>\n",
    "\n",
    "We present our solution step by step."
   ]
  },
  {
   "cell_type": "code",
   "execution_count": 4,
   "metadata": {},
   "outputs": [
    {
     "name": "stdout",
     "output_type": "stream",
     "text": [
      "the probability of getting head after 3 coin tosses is 0.44399999999999995\n",
      "the probability of getting tail after 3 coin tosses is 0.556\n"
     ]
    }
   ],
   "source": [
    "#\n",
    "# OUR SOLUTION\n",
    "#\n",
    "\n",
    "# initial condition:\n",
    "# Asja will start with one euro,\n",
    "#    and so, we assume that the probability of having head is 1 at the beginning.\n",
    "prob_head = 1\n",
    "prob_tail = 0\n",
    "\n",
    "\n",
    "#\n",
    "# first coin-flip\n",
    "#\n",
    "\n",
    "# the new probability of head is calculated by using the first row of table\n",
    "new_prob_head = prob_head * 0.6 + prob_tail * 0.3\n",
    "\n",
    "# the new probability of tail is calculated by using the second row of the table\n",
    "new_prob_tail = prob_head * 0.4 + prob_tail * 0.7\n",
    "\n",
    "# update the probabilities for the second round\n",
    "prob_head = new_prob_head\n",
    "prob_tail = new_prob_tail\n",
    "\n",
    "#\n",
    "# second coin-flip\n",
    "#\n",
    "# we do the same calculations\n",
    "\n",
    "new_prob_head = prob_head * 0.6 + prob_tail * 0.3\n",
    "new_prob_tail = prob_head * 0.4 + prob_tail * 0.7\n",
    "\n",
    "prob_head = new_prob_head\n",
    "prob_tail = new_prob_tail\n",
    "\n",
    "#\n",
    "# third coin-flip\n",
    "#\n",
    "# we do the same calculations\n",
    "\n",
    "new_prob_head = prob_head * 0.6 + prob_tail * 0.3\n",
    "new_prob_tail = prob_head * 0.4 + prob_tail * 0.7\n",
    "\n",
    "prob_head = new_prob_head\n",
    "prob_tail = new_prob_tail\n",
    "\n",
    "# print prob_head and prob_tail\n",
    "print(\"the probability of getting head after 3 coin tosses is\",prob_head)\n",
    "print(\"the probability of getting tail after 3 coin tosses is\",prob_tail)"
   ]
  },
  {
   "cell_type": "markdown",
   "metadata": {},
   "source": [
    "<h3> Task 2: Tracing ten biased coin tosses </h3>\n",
    "\n",
    "By using python, calculate the probabilities of Asja seeing heads and tails after 10 coin tosses.\n",
    "\n",
    "$\n",
    "GameCoins = \\begin{array}{c|cc} & \\mathbf{Head} & \\mathbf{Tail} \\\\ \\hline \\mathbf{Head} & 0.6 & 0.3\\\\  \\mathbf{Tail} & 0.4 & 0.7  \\end{array} = \\begin{array}{c|cc} & \\mathbf{0} & \\mathbf{1} \\\\ \\hline \\mathbf{0} & 0.6 & 0.3 \\\\  \\mathbf{1} & 0.4 & 0.7  \\end{array}\n",
    "$\n",
    "\n",
    "Use a loop in your solution."
   ]
  },
  {
   "cell_type": "code",
   "execution_count": 5,
   "metadata": {},
   "outputs": [
    {
     "name": "stdout",
     "output_type": "stream",
     "text": [
      "the probability of getting head after 10 coin tosses is 0.42857480279999977\n",
      "the probability of getting tail after 10 coin tosses is 0.5714251971999997\n"
     ]
    }
   ],
   "source": [
    "#\n",
    "# your solution is here\n",
    "#\n",
    "def N_tosses(N, init_cond=1):\n",
    "    \n",
    "    prob_head = init_cond\n",
    "    prob_tail = 1 - init_cond\n",
    "\n",
    "    for i in range(N):\n",
    "\n",
    "        new_prob_head = prob_head * 0.6 + prob_tail * 0.3\n",
    "        new_prob_tail = prob_head * 0.4 + prob_tail * 0.7\n",
    "\n",
    "        prob_head = new_prob_head\n",
    "        prob_tail = new_prob_tail\n",
    "\n",
    "    print(\"the probability of getting head after %d coin tosses is\"%N,prob_head)\n",
    "    print(\"the probability of getting tail after %d coin tosses is\"%N,prob_tail)\n",
    "\n",
    "N_tosses(10)\n"
   ]
  },
  {
   "cell_type": "markdown",
   "metadata": {},
   "source": [
    "<a href=\"B09_Coin_Flip_Game_Solutions.ipynb#task2\">click for our solution</a>"
   ]
  },
  {
   "cell_type": "markdown",
   "metadata": {},
   "source": [
    "<h3> Task 3</h3>\n",
    "\n",
    "Repeat Task 2 for 20, 30, and 50 coin tosses."
   ]
  },
  {
   "cell_type": "code",
   "execution_count": 6,
   "metadata": {},
   "outputs": [
    {
     "name": "stdout",
     "output_type": "stream",
     "text": [
      "the probability of getting head after 20 coin tosses is 0.42857142859135267\n",
      "the probability of getting tail after 20 coin tosses is 0.5714285714086464\n",
      "the probability of getting head after 30 coin tosses is 0.42857142857142816\n",
      "the probability of getting tail after 30 coin tosses is 0.5714285714285705\n",
      "the probability of getting head after 50 coin tosses is 0.42857142857142805\n",
      "the probability of getting tail after 50 coin tosses is 0.5714285714285706\n"
     ]
    }
   ],
   "source": [
    "#\n",
    "# your solution is here\n",
    "#\n",
    "N_tosses(20)\n",
    "N_tosses(30)\n",
    "N_tosses(50)\n"
   ]
  },
  {
   "cell_type": "markdown",
   "metadata": {},
   "source": [
    "<a href=\"B09_Coin_Flip_Game_Solutions.ipynb#task3\">click for our solution</a>"
   ]
  },
  {
   "cell_type": "markdown",
   "metadata": {},
   "source": [
    "<h3> Task 4</h3>\n",
    "\n",
    "Repeat Task 2 for 10, 20, and 50 coin tosses by picking different initial conditions, e.g., \n",
    "    \n",
    "    prob_head = prob_tail = 1/2\n",
    "or\n",
    "    \n",
    "    prob_head = 0 \n",
    "    prob_tail = 1"
   ]
  },
  {
   "cell_type": "code",
   "execution_count": 7,
   "metadata": {},
   "outputs": [
    {
     "name": "stdout",
     "output_type": "stream",
     "text": [
      "the probability of getting head after 10 coin tosses is 0.42857125986\n",
      "the probability of getting tail after 10 coin tosses is 0.57142874014\n",
      "the probability of getting head after 10 coin tosses is 0.42856948838999986\n",
      "the probability of getting tail after 10 coin tosses is 0.5714305116099998\n",
      "the probability of getting head after 20 coin tosses is 0.428571428587866\n",
      "the probability of getting tail after 20 coin tosses is 0.5714285714121334\n",
      "the probability of getting head after 50 coin tosses is 0.42857142857142827\n",
      "the probability of getting tail after 50 coin tosses is 0.571428571428571\n"
     ]
    }
   ],
   "source": [
    "#\n",
    "# your solution is here\n",
    "#\n",
    "N_tosses(10, 0.4)\n",
    "N_tosses(10, 0.1)\n",
    "N_tosses(20, 0.9)\n",
    "N_tosses(50, 0.5)"
   ]
  },
  {
   "cell_type": "markdown",
   "metadata": {},
   "source": [
    "<a href=\"B09_Coin_Flip_Game_Solutions.ipynb#task4\">click for our solution</a>"
   ]
  },
  {
   "cell_type": "markdown",
   "metadata": {},
   "source": [
    "<hr>"
   ]
  },
  {
   "cell_type": "markdown",
   "metadata": {},
   "source": [
    "<h3> Arbitrary transitions for GameCoins [extra]</h3>\n",
    "\n",
    "By changing the bias of each Asja's coin, we can define arbitrary GameCoins.\n",
    "\n",
    "If $ a $ is the probability of getting heads for one euro and $ b $ is the probability of getting heads for one cent, then we have the following transitions:\n",
    "\n",
    "$\n",
    "GameCoins(a,b) = \\begin{array}{c|cc} & \\mathbf{Head} & \\mathbf{Tail} \\\\ \\hline \\mathbf{Head} & a & b\\\\  \\mathbf{Tail} & 1-a & 1-b  \\end{array} = \\begin{array}{c|cc} & \\mathbf{0} & \\mathbf{1} \\\\ \\hline \\mathbf{0} & a & b \\\\  \\mathbf{1} & 1-a & 1-b  \\end{array}\n",
    "$"
   ]
  },
  {
   "cell_type": "markdown",
   "metadata": {},
   "source": [
    "<h3> Task 5 </h3>\n",
    "\n",
    "Observe that if $ a=1 $ and $ b = 0 $, then it is Identity operator, i.e., the initial condition will stay as it is.\n",
    "\n",
    "If $ a=0 $ and $ b=1 $, then it is NOT operator. NOT operator swaps the probabilities of heads and tails in each step. If the initial probabilities are not $ 0.5 $ and $ 0.5 $, then the system never converges to a fixed probabilities."
   ]
  },
  {
   "cell_type": "code",
   "execution_count": 8,
   "metadata": {},
   "outputs": [
    {
     "name": "stdout",
     "output_type": "stream",
     "text": [
      "the probability of getting head after 10 coin tosses is 1\n",
      "the probability of getting tail after 10 coin tosses is 0\n",
      "the probability of getting head after 50 coin tosses is 1\n",
      "the probability of getting tail after 50 coin tosses is 0\n",
      "the probability of getting head after 100 coin tosses is 1\n",
      "the probability of getting tail after 100 coin tosses is 0\n",
      "the probability of getting head after 10 coin tosses is 0.3105796595097657\n",
      "the probability of getting tail after 10 coin tosses is 0.6894203404902346\n",
      "the probability of getting head after 50 coin tosses is 0.47639672379332654\n",
      "the probability of getting tail after 50 coin tosses is 0.5236032762066737\n",
      "the probability of getting head after 100 coin tosses is 0.35064935064935066\n",
      "the probability of getting tail after 100 coin tosses is 0.6493506493506493\n"
     ]
    }
   ],
   "source": [
    "#\n",
    "# your solution is here\n",
    "#\n",
    "def N_tosses_(N, a, b, init_cond=1):\n",
    "    \n",
    "    prob_head = init_cond\n",
    "    prob_tail = 1 - init_cond\n",
    "\n",
    "    for i in range(N):\n",
    "\n",
    "        new_prob_head = prob_head * a + prob_tail * b\n",
    "        new_prob_tail = prob_head * (1 - a) + prob_tail * (1 - b)\n",
    "\n",
    "        prob_head = new_prob_head\n",
    "        prob_tail = new_prob_tail\n",
    "\n",
    "    print(\"the probability of getting head after %d coin tosses is\"%N,prob_head)\n",
    "    print(\"the probability of getting tail after %d coin tosses is\"%N,prob_tail)\n",
    "\n",
    "N_tosses_(10, 0, 1)\n",
    "N_tosses_(50, 0, 1)\n",
    "N_tosses_(100, 0, 1)\n",
    "N_tosses_(10, 0, 0.45)\n",
    "N_tosses_(50, 0, 0.9)\n",
    "N_tosses_(100, 0, 0.54)"
   ]
  },
  {
   "cell_type": "markdown",
   "metadata": {},
   "source": [
    "<h3> Task 6</h3>\n",
    "\n",
    "Randomly pick the values of $ a $ and $ b $, and then implement Tasks 3 and 4 for $ GameCoins(a,b) $."
   ]
  },
  {
   "cell_type": "code",
   "execution_count": 9,
   "metadata": {},
   "outputs": [
    {
     "name": "stdout",
     "output_type": "stream",
     "text": [
      "0.03 0.97\n",
      "the probability of getting head after 20 coin tosses is 0.6450531205657307\n",
      "the probability of getting tail after 20 coin tosses is 0.35494687943426895\n",
      "the probability of getting head after 30 coin tosses is 0.578127803083332\n",
      "the probability of getting tail after 30 coin tosses is 0.4218721969166674\n",
      "the probability of getting head after 50 coin tosses is 0.5226653632803641\n",
      "the probability of getting tail after 50 coin tosses is 0.47733463671963505\n",
      "the probability of getting head after 10 coin tosses is 0.7693075570474497\n",
      "the probability of getting tail after 10 coin tosses is 0.2306924429525502\n",
      "the probability of getting head after 10 coin tosses is 0.7693075570474497\n",
      "the probability of getting tail after 10 coin tosses is 0.2306924429525502\n",
      "the probability of getting head after 20 coin tosses is 0.6450531205657307\n",
      "the probability of getting tail after 20 coin tosses is 0.35494687943426895\n",
      "the probability of getting head after 50 coin tosses is 0.5226653632803641\n",
      "the probability of getting tail after 50 coin tosses is 0.47733463671963505\n"
     ]
    }
   ],
   "source": [
    "#\n",
    "# your solution is here\n",
    "#\n",
    "from random import randrange\n",
    "a = randrange(101)/100\n",
    "b = 1 - a\n",
    "print(a, b)\n",
    "N_tosses_(20, a, b)\n",
    "N_tosses_(30, a, b)\n",
    "N_tosses_(50, a, b)\n",
    "\n",
    "N_tosses_(10, a, b)\n",
    "N_tosses_(10, a, b)\n",
    "N_tosses_(20, a, b)\n",
    "N_tosses_(50, a, b)"
   ]
  },
  {
   "cell_type": "markdown",
   "metadata": {},
   "source": [
    "<h3> Task 7</h3>\n",
    "\n",
    "10 times repeat Task 6 and observe whether the probabilities converge in each time."
   ]
  },
  {
   "cell_type": "code",
   "execution_count": 10,
   "metadata": {},
   "outputs": [
    {
     "name": "stdout",
     "output_type": "stream",
     "text": [
      "the probability of getting head after 20 coin tosses is 0.500000014586658\n",
      "the probability of getting tail after 20 coin tosses is 0.49999998541334123\n",
      "the probability of getting head after 30 coin tosses is 0.5000000000024909\n",
      "the probability of getting tail after 30 coin tosses is 0.49999999999750805\n",
      "the probability of getting head after 50 coin tosses is 0.4999999999999992\n",
      "the probability of getting tail after 50 coin tosses is 0.4999999999999992\n",
      "the probability of getting head after 10 coin tosses is 0.5000854009906082\n",
      "the probability of getting tail after 10 coin tosses is 0.4999145990093914\n",
      "the probability of getting head after 10 coin tosses is 0.5000854009906082\n",
      "the probability of getting tail after 10 coin tosses is 0.4999145990093914\n",
      "the probability of getting head after 20 coin tosses is 0.500000014586658\n",
      "the probability of getting tail after 20 coin tosses is 0.49999998541334123\n",
      "the probability of getting head after 50 coin tosses is 0.4999999999999992\n",
      "the probability of getting tail after 50 coin tosses is 0.4999999999999992\n",
      "the probability of getting head after 20 coin tosses is 0.5\n",
      "the probability of getting tail after 20 coin tosses is 0.5\n",
      "the probability of getting head after 30 coin tosses is 0.5\n",
      "the probability of getting tail after 30 coin tosses is 0.5\n",
      "the probability of getting head after 50 coin tosses is 0.5\n",
      "the probability of getting tail after 50 coin tosses is 0.5\n",
      "the probability of getting head after 10 coin tosses is 0.5000000003095868\n",
      "the probability of getting tail after 10 coin tosses is 0.4999999996904132\n",
      "the probability of getting head after 10 coin tosses is 0.5000000003095868\n",
      "the probability of getting tail after 10 coin tosses is 0.4999999996904132\n",
      "the probability of getting head after 20 coin tosses is 0.5\n",
      "the probability of getting tail after 20 coin tosses is 0.5\n",
      "the probability of getting head after 50 coin tosses is 0.5\n",
      "the probability of getting tail after 50 coin tosses is 0.5\n",
      "the probability of getting head after 20 coin tosses is 0.5152952199119248\n",
      "the probability of getting tail after 20 coin tosses is 0.4847047800880749\n",
      "the probability of getting head after 30 coin tosses is 0.5026751527568416\n",
      "the probability of getting tail after 30 coin tosses is 0.4973248472431583\n",
      "the probability of getting head after 50 coin tosses is 0.5000818340994276\n",
      "the probability of getting tail after 50 coin tosses is 0.49991816590057236\n",
      "the probability of getting head after 10 coin tosses is 0.5874506143829903\n",
      "the probability of getting tail after 10 coin tosses is 0.4125493856170095\n",
      "the probability of getting head after 10 coin tosses is 0.5874506143829903\n",
      "the probability of getting tail after 10 coin tosses is 0.4125493856170095\n",
      "the probability of getting head after 20 coin tosses is 0.5152952199119248\n",
      "the probability of getting tail after 20 coin tosses is 0.4847047800880749\n",
      "the probability of getting head after 50 coin tosses is 0.5000818340994276\n",
      "the probability of getting tail after 50 coin tosses is 0.49991816590057236\n",
      "the probability of getting head after 20 coin tosses is 0.5000182807922006\n",
      "the probability of getting tail after 20 coin tosses is 0.4999817192078\n",
      "the probability of getting head after 30 coin tosses is 0.5000001105369601\n",
      "the probability of getting tail after 30 coin tosses is 0.4999998894630404\n",
      "the probability of getting head after 50 coin tosses is 0.5000000000040417\n",
      "the probability of getting tail after 50 coin tosses is 0.49999999999595895\n",
      "the probability of getting head after 10 coin tosses is 0.5030233088000001\n",
      "the probability of getting tail after 10 coin tosses is 0.4969766912000001\n",
      "the probability of getting head after 10 coin tosses is 0.5030233088000001\n",
      "the probability of getting tail after 10 coin tosses is 0.4969766912000001\n",
      "the probability of getting head after 20 coin tosses is 0.5000182807922006\n",
      "the probability of getting tail after 20 coin tosses is 0.4999817192078\n",
      "the probability of getting head after 50 coin tosses is 0.5000000000040417\n",
      "the probability of getting tail after 50 coin tosses is 0.49999999999595895\n",
      "the probability of getting head after 20 coin tosses is 0.5\n",
      "the probability of getting tail after 20 coin tosses is 0.5\n",
      "the probability of getting head after 30 coin tosses is 0.5\n",
      "the probability of getting tail after 30 coin tosses is 0.5\n",
      "the probability of getting head after 50 coin tosses is 0.5\n",
      "the probability of getting tail after 50 coin tosses is 0.5\n",
      "the probability of getting head after 10 coin tosses is 0.5\n",
      "the probability of getting tail after 10 coin tosses is 0.5\n",
      "the probability of getting head after 10 coin tosses is 0.5\n",
      "the probability of getting tail after 10 coin tosses is 0.5\n",
      "the probability of getting head after 20 coin tosses is 0.5\n",
      "the probability of getting tail after 20 coin tosses is 0.5\n",
      "the probability of getting head after 50 coin tosses is 0.5\n",
      "the probability of getting tail after 50 coin tosses is 0.5\n",
      "the probability of getting head after 20 coin tosses is 0.5\n",
      "the probability of getting tail after 20 coin tosses is 0.5\n",
      "the probability of getting head after 30 coin tosses is 0.5\n",
      "the probability of getting tail after 30 coin tosses is 0.5\n",
      "the probability of getting head after 50 coin tosses is 0.5\n",
      "the probability of getting tail after 50 coin tosses is 0.5\n",
      "the probability of getting head after 10 coin tosses is 0.50000000005\n",
      "the probability of getting tail after 10 coin tosses is 0.49999999995\n",
      "the probability of getting head after 10 coin tosses is 0.50000000005\n",
      "the probability of getting tail after 10 coin tosses is 0.49999999995\n",
      "the probability of getting head after 20 coin tosses is 0.5\n",
      "the probability of getting tail after 20 coin tosses is 0.5\n",
      "the probability of getting head after 50 coin tosses is 0.5\n",
      "the probability of getting tail after 50 coin tosses is 0.5\n",
      "the probability of getting head after 20 coin tosses is 0.7210012169397038\n",
      "the probability of getting tail after 20 coin tosses is 0.2789987830602962\n",
      "the probability of getting head after 30 coin tosses is 0.6469288216153528\n",
      "the probability of getting tail after 30 coin tosses is 0.35307117838464713\n",
      "the probability of getting head after 50 coin tosses is 0.5649428967610189\n",
      "the probability of getting tail after 50 coin tosses is 0.4350571032389807\n",
      "the probability of getting head after 10 coin tosses is 0.8324163179957504\n",
      "the probability of getting tail after 10 coin tosses is 0.16758368200424953\n",
      "the probability of getting head after 10 coin tosses is 0.8324163179957504\n",
      "the probability of getting tail after 10 coin tosses is 0.16758368200424953\n",
      "the probability of getting head after 20 coin tosses is 0.7210012169397038\n",
      "the probability of getting tail after 20 coin tosses is 0.2789987830602962\n",
      "the probability of getting head after 50 coin tosses is 0.5649428967610189\n",
      "the probability of getting tail after 50 coin tosses is 0.4350571032389807\n",
      "the probability of getting head after 20 coin tosses is 0.5000000000000002\n",
      "the probability of getting tail after 20 coin tosses is 0.5000000000000001\n",
      "the probability of getting head after 30 coin tosses is 0.5000000000000002\n",
      "the probability of getting tail after 30 coin tosses is 0.5000000000000001\n",
      "the probability of getting head after 50 coin tosses is 0.5000000000000002\n",
      "the probability of getting tail after 50 coin tosses is 0.5000000000000001\n",
      "the probability of getting head after 10 coin tosses is 0.5000000054975583\n",
      "the probability of getting tail after 10 coin tosses is 0.499999994502442\n",
      "the probability of getting head after 10 coin tosses is 0.5000000054975583\n",
      "the probability of getting tail after 10 coin tosses is 0.499999994502442\n",
      "the probability of getting head after 20 coin tosses is 0.5000000000000002\n",
      "the probability of getting tail after 20 coin tosses is 0.5000000000000001\n",
      "the probability of getting head after 50 coin tosses is 0.5000000000000002\n",
      "the probability of getting tail after 50 coin tosses is 0.5000000000000001\n",
      "the probability of getting head after 20 coin tosses is 0.5\n",
      "the probability of getting tail after 20 coin tosses is 0.5\n",
      "the probability of getting head after 30 coin tosses is 0.5\n",
      "the probability of getting tail after 30 coin tosses is 0.5\n",
      "the probability of getting head after 50 coin tosses is 0.5\n",
      "the probability of getting tail after 50 coin tosses is 0.5\n",
      "the probability of getting head after 10 coin tosses is 0.5\n",
      "the probability of getting tail after 10 coin tosses is 0.5\n",
      "the probability of getting head after 10 coin tosses is 0.5\n",
      "the probability of getting tail after 10 coin tosses is 0.5\n",
      "the probability of getting head after 20 coin tosses is 0.5\n",
      "the probability of getting tail after 20 coin tosses is 0.5\n",
      "the probability of getting head after 50 coin tosses is 0.5\n",
      "the probability of getting tail after 50 coin tosses is 0.5\n",
      "the probability of getting head after 20 coin tosses is 0.5000000000009964\n",
      "the probability of getting tail after 20 coin tosses is 0.4999999999990036\n",
      "the probability of getting head after 30 coin tosses is 0.5\n",
      "the probability of getting tail after 30 coin tosses is 0.5\n",
      "the probability of getting head after 50 coin tosses is 0.5\n",
      "the probability of getting tail after 50 coin tosses is 0.5\n",
      "the probability of getting head after 10 coin tosses is 0.5000007058354783\n",
      "the probability of getting tail after 10 coin tosses is 0.49999929416452177\n",
      "the probability of getting head after 10 coin tosses is 0.5000007058354783\n",
      "the probability of getting tail after 10 coin tosses is 0.49999929416452177\n",
      "the probability of getting head after 20 coin tosses is 0.5000000000009964\n",
      "the probability of getting tail after 20 coin tosses is 0.4999999999990036\n",
      "the probability of getting head after 50 coin tosses is 0.5\n",
      "the probability of getting tail after 50 coin tosses is 0.5\n"
     ]
    }
   ],
   "source": [
    "#\n",
    "# your solution is here\n",
    "#\n",
    "\n",
    "from random import randrange\n",
    "\n",
    "for i in range(10):\n",
    "    a = randrange(101)/100\n",
    "    b = 1 - a\n",
    "    N_tosses_(20, a, b)\n",
    "    N_tosses_(30, a, b)\n",
    "    N_tosses_(50, a, b)\n",
    "\n",
    "    N_tosses_(10, a, b)\n",
    "    N_tosses_(10, a, b)\n",
    "    N_tosses_(20, a, b)\n",
    "    N_tosses_(50, a, b)\n"
   ]
  },
  {
   "cell_type": "markdown",
   "metadata": {},
   "source": [
    "<h3>Task 8</h3>\n",
    "\n",
    "We can rewrite arbitrary GameCoins as \n",
    "\n",
    "$  \\begin{array}{c|cc} & \\mathbf{Head} & \\mathbf{Tail} \\\\ \\hline \\mathbf{Head} & 1-y & x\\\\  \\mathbf{Tail} & y & 1-x  \\end{array} = \\begin{array}{c|cc} & \\mathbf{0} & \\mathbf{1} \\\\ \\hline \\mathbf{0} & 1-y & x \\\\  \\mathbf{1} & y & 1-x  \\end{array}.\n",
    "$ \n",
    "\n",
    "We assume that it is neither Identity nor NOT operator. Then, independent of the initial state, the system always converges to \n",
    "\n",
    "$ Pr[\\mbox{\"heads\"}] = \\dfrac{x}{x+y} $ and $ Pr[\\mbox{\"tails\"}]=\\dfrac{y}{x+y} $, \n",
    "\n",
    "which are the probabilities of getting heads and tails, respectively.\n",
    "\n",
    "Observe this fact by checking the results of Task 7."
   ]
  },
  {
   "cell_type": "code",
   "execution_count": 11,
   "metadata": {},
   "outputs": [
    {
     "name": "stdout",
     "output_type": "stream",
     "text": [
      "0.09 0.91\n",
      "0.91\n",
      "the probability of getting head after 10 coin tosses is 0.91\n",
      "the probability of getting tail after 10 coin tosses is 0.09\n",
      "the probability of getting head after 10 coin tosses is 0.91\n",
      "the probability of getting tail after 10 coin tosses is 0.09\n",
      "the probability of getting head after 20 coin tosses is 0.91\n",
      "the probability of getting tail after 20 coin tosses is 0.09\n",
      "the probability of getting head after 50 coin tosses is 0.91\n",
      "the probability of getting tail after 50 coin tosses is 0.09\n",
      "the probability of getting head after 100 coin tosses is 0.91\n",
      "the probability of getting tail after 100 coin tosses is 0.09\n",
      "the probability of getting head after 1000 coin tosses is 0.91\n",
      "the probability of getting tail after 1000 coin tosses is 0.09\n"
     ]
    }
   ],
   "source": [
    "#\n",
    "# your solution is here\n",
    "#\n",
    "\n",
    "def N_tosses(N, a, b, init_cond=1):\n",
    "    \n",
    "    prob_head = init_cond\n",
    "    prob_tail = 1 - init_cond\n",
    "\n",
    "    for i in range(N):\n",
    "\n",
    "        new_prob_head = prob_head * (1 - a) + prob_tail * b\n",
    "        new_prob_tail = prob_head * a + prob_tail * (1 - b)\n",
    "\n",
    "        prob_head = new_prob_head\n",
    "        prob_tail = new_prob_tail\n",
    "\n",
    "    print(\"the probability of getting head after %d coin tosses is\"%N,prob_head)\n",
    "    print(\"the probability of getting tail after %d coin tosses is\"%N,prob_tail)\n",
    "\n",
    "a = randrange(101)/100\n",
    "b = 1 - a\n",
    "print(a, b)\n",
    "print(b/(a + b))\n",
    "N_tosses(10, a, b)\n",
    "N_tosses(10, a, b)\n",
    "N_tosses(20, a, b)\n",
    "N_tosses(50, a, b)\n",
    "N_tosses(100, a, b)\n",
    "N_tosses(1000, a, b)\n"
   ]
  },
  {
   "cell_type": "code",
   "execution_count": null,
   "metadata": {},
   "outputs": [],
   "source": []
  }
 ],
 "metadata": {
  "kernelspec": {
   "display_name": "Python 3",
   "language": "python",
   "name": "python3"
  },
  "language_info": {
   "codemirror_mode": {
    "name": "ipython",
    "version": 3
   },
   "file_extension": ".py",
   "mimetype": "text/x-python",
   "name": "python",
   "nbconvert_exporter": "python",
   "pygments_lexer": "ipython3",
   "version": "3.8.3"
  }
 },
 "nbformat": 4,
 "nbformat_minor": 2
}
