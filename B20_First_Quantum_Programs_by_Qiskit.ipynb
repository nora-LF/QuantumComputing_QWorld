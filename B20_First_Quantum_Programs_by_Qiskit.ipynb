{
 "cells": [
  {
   "cell_type": "markdown",
   "metadata": {},
   "source": [
    "<table> <tr>\n",
    "        <td  style=\"background-color:#ffffff;\">\n",
    "            <a href=\"http://qworld.lu.lv\" target=\"_blank\"><img src=\"../images/qworld.jpg\" width=\"25%\" align=\"left\"> </a></td>\n",
    "        <td style=\"background-color:#ffffff;vertical-align:bottom;text-align:right;\">\n",
    "            prepared by <a href=\"http://abu.lu.lv\" target=\"_blank\">Abuzer Yakaryilmaz</a> (<a href=\"http://qworld.lu.lv/index.php/qlatvia/\" target=\"_blank\">QLatvia</a>)\n",
    "        </td>        \n",
    "</tr></table>"
   ]
  },
  {
   "cell_type": "markdown",
   "metadata": {},
   "source": [
    "<table width=\"100%\"><tr><td style=\"color:#bbbbbb;background-color:#ffffff;font-size:11px;font-style:italic;text-align:right;\">This cell contains some macros. If there is a problem with displaying mathematical formulas, please run this cell to load these macros. </td></tr></table>\n",
    "$ \\newcommand{\\bra}[1]{\\langle #1|} $\n",
    "$ \\newcommand{\\ket}[1]{|#1\\rangle} $\n",
    "$ \\newcommand{\\braket}[2]{\\langle #1|#2\\rangle} $\n",
    "$ \\newcommand{\\dot}[2]{ #1 \\cdot #2} $\n",
    "$ \\newcommand{\\biginner}[2]{\\left\\langle #1,#2\\right\\rangle} $\n",
    "$ \\newcommand{\\mymatrix}[2]{\\left( \\begin{array}{#1} #2\\end{array} \\right)} $\n",
    "$ \\newcommand{\\myvector}[1]{\\mymatrix{c}{#1}} $\n",
    "$ \\newcommand{\\myrvector}[1]{\\mymatrix{r}{#1}} $\n",
    "$ \\newcommand{\\mypar}[1]{\\left( #1 \\right)} $\n",
    "$ \\newcommand{\\mybigpar}[1]{ \\Big( #1 \\Big)} $\n",
    "$ \\newcommand{\\sqrttwo}{\\frac{1}{\\sqrt{2}}} $\n",
    "$ \\newcommand{\\dsqrttwo}{\\dfrac{1}{\\sqrt{2}}} $\n",
    "$ \\newcommand{\\onehalf}{\\frac{1}{2}} $\n",
    "$ \\newcommand{\\donehalf}{\\dfrac{1}{2}} $\n",
    "$ \\newcommand{\\hadamard}{ \\mymatrix{rr}{ \\sqrttwo & \\sqrttwo \\\\ \\sqrttwo & -\\sqrttwo }} $\n",
    "$ \\newcommand{\\vzero}{\\myvector{1\\\\0}} $\n",
    "$ \\newcommand{\\vone}{\\myvector{0\\\\1}} $\n",
    "$ \\newcommand{\\vhadamardzero}{\\myvector{ \\sqrttwo \\\\  \\sqrttwo } } $\n",
    "$ \\newcommand{\\vhadamardone}{ \\myrvector{ \\sqrttwo \\\\ -\\sqrttwo } } $\n",
    "$ \\newcommand{\\myarray}[2]{ \\begin{array}{#1}#2\\end{array}} $\n",
    "$ \\newcommand{\\X}{ \\mymatrix{cc}{0 & 1 \\\\ 1 & 0}  } $\n",
    "$ \\newcommand{\\Z}{ \\mymatrix{rr}{1 & 0 \\\\ 0 & -1}  } $\n",
    "$ \\newcommand{\\Htwo}{ \\mymatrix{rrrr}{ \\frac{1}{2} & \\frac{1}{2} & \\frac{1}{2} & \\frac{1}{2} \\\\ \\frac{1}{2} & -\\frac{1}{2} & \\frac{1}{2} & -\\frac{1}{2} \\\\ \\frac{1}{2} & \\frac{1}{2} & -\\frac{1}{2} & -\\frac{1}{2} \\\\ \\frac{1}{2} & -\\frac{1}{2} & -\\frac{1}{2} & \\frac{1}{2} } } $\n",
    "$ \\newcommand{\\CNOT}{ \\mymatrix{cccc}{1 & 0 & 0 & 0 \\\\ 0 & 1 & 0 & 0 \\\\ 0 & 0 & 0 & 1 \\\\ 0 & 0 & 1 & 0} } $\n",
    "$ \\newcommand{\\norm}[1]{ \\left\\lVert #1 \\right\\rVert } $"
   ]
  },
  {
   "cell_type": "markdown",
   "metadata": {},
   "source": [
    "<h2> First Quantum Programs by Qiskit</h2>\n",
    "\n",
    "[Watch Lecture](https://youtu.be/40xuWuwVgeA)"
   ]
  },
  {
   "cell_type": "markdown",
   "metadata": {},
   "source": [
    "In principle, every reversible classical program (i.e., a classical program containing only reversible operators) is also a quantum program. \n",
    "\n",
    "NOT operator is a classical reversible operator, and so we can design quantum programs by using NOT operator.\n",
    "<hr>"
   ]
  },
  {
   "cell_type": "markdown",
   "metadata": {},
   "source": [
    "For our quantum programs, we will design quantum circuits. In this notebook, we will use <a href=\"https://qiskit.org\" target=\"_blank\">Qiskit library</a>.\n",
    "\n",
    "As a warm-up example, here we design a circuit with a single quantum bit (qubit).\n",
    "\n",
    "We highlight the details on designing quantum circuits along with our codes."
   ]
  },
  {
   "cell_type": "markdown",
   "metadata": {},
   "source": [
    "<h3> Design a circuit</h3>"
   ]
  },
  {
   "cell_type": "code",
   "execution_count": 2,
   "metadata": {},
   "outputs": [
    {
     "name": "stdout",
     "output_type": "stream",
     "text": [
      "The design of the circuit is done.\n"
     ]
    }
   ],
   "source": [
    "# \n",
    "# A quantum circuit is composed by quantum and classical bits in Qiskit.\n",
    "#\n",
    "\n",
    "# here are the objects that we use to create a quantum circuit in qiskit\n",
    "from qiskit import QuantumRegister, ClassicalRegister, QuantumCircuit\n",
    "\n",
    "# we use a quantum register to keep our quantum bits.\n",
    "q =  QuantumRegister(1,\"qreg\") # in this example we will use a single quantum bit\n",
    "# the second parameter is optional\n",
    "\n",
    "# To retrieve an information from a quantum bit, it must be measured. (More details will appear.)\n",
    "#     The measurement result is stored classically.\n",
    "#     Therefore, we also use a classical register with classical bit(s)\n",
    "c = ClassicalRegister(1,\"creg\") # in this example we will use a single classical bit\n",
    "# the second parameter is optional\n",
    "\n",
    "# now we can define our quantum circuit\n",
    "# it is composed by a quantum and a classical registers\n",
    "qc = QuantumCircuit(q,c)\n",
    "\n",
    "# we apply operators on quantum bits\n",
    "# operators are called as gates\n",
    "# we apply NOT operator represented as \"x\" in qiskit\n",
    "# operator is a part of the circuit, and we should specify the quantum bit as its parameter\n",
    "qc.x(q[0]) # (quantum) bits are enumerated starting from 0\n",
    "# NOT operator or x-gate is applied to the first qubit of the quantum register\n",
    "\n",
    "# measurement is defined by associating a quantum bit to a classical bit\n",
    "qc.measure(q[0],c[0])\n",
    "# after the measurement, the observed value of the quantum bit is stored in the classical bit\n",
    "\n",
    "# we run our codes until now, and then draw our circuit\n",
    "print(\"The design of the circuit is done.\")"
   ]
  },
  {
   "cell_type": "markdown",
   "metadata": {},
   "source": [
    "<h3> Visualize the circuit </h3>\n",
    "\n",
    "Visualizing quantum circuits are always helpful to see the whole program at once. \n",
    "\n",
    "We use two different circuit drawing methods of Qiskit. "
   ]
  },
  {
   "cell_type": "code",
   "execution_count": 3,
   "metadata": {},
   "outputs": [
    {
     "data": {
      "text/html": [
       "<pre style=\"word-wrap: normal;white-space: pre;background: #fff0;line-height: 1.1;font-family: &quot;Courier New&quot;,Courier,monospace\">        ┌───┐┌─┐\n",
       "qreg_0: ┤ X ├┤M├\n",
       "        └───┘└╥┘\n",
       "creg: 1/══════╩═\n",
       "              0 </pre>"
      ],
      "text/plain": [
       "        ┌───┐┌─┐\n",
       "qreg_0: ┤ X ├┤M├\n",
       "        └───┘└╥┘\n",
       "creg: 1/══════╩═\n",
       "              0 "
      ]
     },
     "execution_count": 3,
     "metadata": {},
     "output_type": "execute_result"
    }
   ],
   "source": [
    "# in Qiskit, the circuit object has a method called \"draw\"\n",
    "# the default drawing method uses ASCII art\n",
    "\n",
    "# let's draw our circuit now \n",
    "qc.draw()\n",
    "\n",
    "# re-execute this cell if you DO NOT see the circuit diagram"
   ]
  },
  {
   "cell_type": "code",
   "execution_count": 4,
   "metadata": {},
   "outputs": [
    {
     "data": {
      "image/png": "[encoded data removed]",
      "text/plain": [
       "<Figure size 228.341x144.48 with 1 Axes>"
      ]
     },
     "execution_count": 4,
     "metadata": {},
     "output_type": "execute_result"
    }
   ],
   "source": [
    "# we can draw the same circuit by using matplotlib\n",
    "qc.draw(output='mpl')"
   ]
  },
  {
   "cell_type": "markdown",
   "metadata": {},
   "source": [
    "As seen explicitly in the first diagram, each quantum or classical bit is set to value/state 0 at the beginning. \n",
    "\n",
    "<i>As a convention in quantum computing (mechanics), state 0 is denoted as $ \\ket{0} $. This notation is called as <b>ket</b>.</i>\n",
    "\n",
    "Each quantum bit is represented as a single straight line. Each classical bit is represented as a double straight line. You may think of them as wires.\n",
    "\n",
    "The x-gate and the measurement operators are shown as boxes. *Remark that the measurement operator is represented differently in the diagrams. Both are used in the literature.* \n",
    "\n",
    "The state of the quantum bit is expected to be $ \\ket{1} $ after the operator. So, the value of the classical bit after the measurement is expected to be 1."
   ]
  },
  {
   "cell_type": "markdown",
   "metadata": {},
   "source": [
    "<h3>Execute the circuit</h3>\n",
    "\n",
    "A quantum program can be executed on a real quantum computer or a local classical simulator or a simulator in the cloud. Here we use a local classical simulator provided by Qiskit and so our results will be (almost) accurate. \n",
    "\n",
    "*Remark that the existing real quantum computers are still noisy and so the observed results will be inaccurate.*"
   ]
  },
  {
   "cell_type": "code",
   "execution_count": 5,
   "metadata": {},
   "outputs": [
    {
     "name": "stdout",
     "output_type": "stream",
     "text": [
      "{'1': 1024}\n"
     ]
    }
   ],
   "source": [
    "# we use the method \"execute\" and the object \"Aer\" from qiskit library\n",
    "from qiskit import execute, Aer\n",
    "\n",
    "# we create a job object for execution of the circuit\n",
    "# there are three parameters\n",
    "#     1. mycircuit\n",
    "#     2. backend on which it will be executed: we will use local simulator\n",
    "#     3. how many times it will be executed, by default it is 1024\n",
    "job = execute(qc,Aer.get_backend('qasm_simulator'),shots=1024)\n",
    "\n",
    "# we can get the result of the outcome as follows\n",
    "counts = job.result().get_counts(qc)\n",
    "print(counts) # counts is a dictionary"
   ]
  },
  {
   "cell_type": "markdown",
   "metadata": {},
   "source": [
    "That is, the outcome 1 is measured 1024 times.\n",
    "\n",
    "<i>The output is composed by pairs, and each pair shows (i) the measurement outcome and (ii) its frequency.</i>\n",
    "\n",
    "After executing the above program on a real quantum computer by using <a href=\"https://quantum-computing.ibm.com\" target=\"_blank\">IBM Quantum Experience</a>, we obtained the value of '0' 62 times and the value of '1' 962 times."
   ]
  },
  {
   "cell_type": "code",
   "execution_count": 6,
   "metadata": {},
   "outputs": [
    {
     "data": {
      "image/png": "[encoded data removed]",
      "text/plain": [
       "<Figure size 504x360 with 1 Axes>"
      ]
     },
     "execution_count": 6,
     "metadata": {},
     "output_type": "execute_result"
    }
   ],
   "source": [
    "# we can show the result by using histogram as follows\n",
    "from qiskit.visualization import plot_histogram\n",
    "plot_histogram(counts)"
   ]
  },
  {
   "cell_type": "markdown",
   "metadata": {},
   "source": [
    "###### <h3> Quantum assembly language </h3>\n",
    "\n",
    "In the above execution, we used \"qasm_simulator\". Here \"qasm\" stands for Open Quantum Assembly Language. Our circuit is converted to qasm code before executing on simulators or real quantum computers.\n",
    "\n",
    "<a href=\"https://en.wikipedia.org/wiki/OpenQASM\" target=\"_blank\">Wikipedia</a> (Feb 18, 2020): *Qasm is an intermediate representation for quantum instructions. The language was first described in a paper published in July 2017, and source code was released as part of IBM's Quantum Information Software Kit (Qiskit) for use with their IBM Q Experience cloud quantum computing platform. The language has similar qualities to traditional hardware description languages such as Verilog.*"
   ]
  },
  {
   "cell_type": "code",
   "execution_count": 7,
   "metadata": {},
   "outputs": [
    {
     "name": "stdout",
     "output_type": "stream",
     "text": [
      "OPENQASM 2.0;\n",
      "include \"qelib1.inc\";\n",
      "qreg qreg[1];\n",
      "creg creg[1];\n",
      "x qreg[0];\n",
      "measure qreg[0] -> creg[0];\n",
      "\n"
     ]
    }
   ],
   "source": [
    "#print qasm code of our program\n",
    "print(qc.qasm())"
   ]
  },
  {
   "cell_type": "markdown",
   "metadata": {},
   "source": [
    "<h3> A quantum circuit with more quantum bits</h3>\n",
    "\n",
    "We design a new quantum circuit with four quantum bits.  "
   ]
  },
  {
   "cell_type": "code",
   "execution_count": 8,
   "metadata": {},
   "outputs": [
    {
     "name": "stdout",
     "output_type": "stream",
     "text": [
      "The design of the circuit is done.\n"
     ]
    }
   ],
   "source": [
    "# \n",
    "# A quantum circuit with four quantum and classical bits \n",
    "#\n",
    "\n",
    "# import all objects and methods at once\n",
    "from qiskit import QuantumRegister, ClassicalRegister, QuantumCircuit, execute, Aer\n",
    "\n",
    "# define quantum and classical registers and then quantum circuit\n",
    "q2 = QuantumRegister(4,\"qreg\")\n",
    "c2 = ClassicalRegister(4,\"creg\")\n",
    "qc2 = QuantumCircuit(q2,c2)\n",
    "\n",
    "# apply x-gate to the first quantum bit twice\n",
    "qc2.x(q2[0])\n",
    "qc2.x(q2[0])\n",
    "\n",
    "# apply x-gate to the fourth quantum bit once\n",
    "qc2.x(q2[3])\n",
    "\n",
    "# apply x-gate to the third quantum bit three times\n",
    "qc2.x(q2[2])\n",
    "qc2.x(q2[2])\n",
    "qc2.x(q2[2])\n",
    "\n",
    "# apply x-gate to the second quantum bit four times\n",
    "qc2.x(q2[1])\n",
    "qc2.x(q2[1])\n",
    "qc2.x(q2[1])\n",
    "qc2.x(q2[1])\n",
    "\n",
    "# define a barrier (for a better visualization)\n",
    "qc2.barrier()\n",
    "\n",
    "# if the sizes of quantum and classical registers are the same, we can define measurements with a single line of code\n",
    "qc2.measure(q2,c2)\n",
    "# then quantum bits and classical bits are associated with respect to their indices\n",
    "\n",
    "# run the codes until now, and then draw our circuit\n",
    "print(\"The design of the circuit is done.\")"
   ]
  },
  {
   "cell_type": "code",
   "execution_count": 9,
   "metadata": {},
   "outputs": [
    {
     "data": {
      "image/png": "[encoded data removed]",
      "text/plain": [
       "<Figure size 663.012x325.08 with 1 Axes>"
      ]
     },
     "execution_count": 9,
     "metadata": {},
     "output_type": "execute_result"
    }
   ],
   "source": [
    "qc2.draw(output='mpl')\n",
    "# re-execute this cell if the circuit diagram does not appear"
   ]
  },
  {
   "cell_type": "markdown",
   "metadata": {},
   "source": [
    "The default order of quantum bits from top to down is $ qreg[0], qreg[1], qreg[2], qreg[3] $.\n",
    "\n",
    "The order can be reversed as shown below."
   ]
  },
  {
   "cell_type": "code",
   "execution_count": 10,
   "metadata": {},
   "outputs": [
    {
     "data": {
      "image/png": "[encoded data removed]",
      "text/plain": [
       "<Figure size 663.012x325.08 with 1 Axes>"
      ]
     },
     "execution_count": 10,
     "metadata": {},
     "output_type": "execute_result"
    }
   ],
   "source": [
    "# by seting parameter \"reverse_bits\" to \"True\", the order of quantum bits are reversed when drawing\n",
    "\n",
    "qc2.draw(output='mpl',reverse_bits=True)\n",
    "# re-execute this cell if the circuit diagram does not appear"
   ]
  },
  {
   "cell_type": "markdown",
   "metadata": {},
   "source": [
    "<h3> Task 1 </h3>\n",
    "\n",
    "Guess the outcome by checking the circuit.\n",
    "\n",
    "Then, compare your guess with the result obtained after executing our circuit 100 times."
   ]
  },
  {
   "cell_type": "code",
   "execution_count": 11,
   "metadata": {},
   "outputs": [
    {
     "data": {
      "text/plain": [
       "[1, 1, 0, 0]"
      ]
     },
     "execution_count": 11,
     "metadata": {},
     "output_type": "execute_result"
    }
   ],
   "source": [
    "r1 = not(not(0))\n",
    "r2 = not(not(not(not(0))))\n",
    "r3 = not(not(not(0)))\n",
    "r4 = not(0)\n",
    "\n",
    "r = [int(x) for x in [r4, r3, r2, r1]]\n",
    "r\n"
   ]
  },
  {
   "cell_type": "code",
   "execution_count": 12,
   "metadata": {},
   "outputs": [
    {
     "name": "stdout",
     "output_type": "stream",
     "text": [
      "{'1100': 100}\n"
     ]
    }
   ],
   "source": [
    "job = execute(qc2,Aer.get_backend('qasm_simulator'),shots=100)\n",
    "counts = job.result().get_counts(qc2)\n",
    "print(counts)\n"
   ]
  },
  {
   "cell_type": "markdown",
   "metadata": {},
   "source": [
    "<h3>Reading order</h3> \n",
    "\n",
    "Qiskit combines the four quantum bits in the following order:\n",
    "\n",
    "$$ qreg[3], qreg[2], qreg[1], qreg[0] .$$\n",
    "\n",
    "Then, each outcome is read in the same order.\n",
    "\n",
    "The outcome is a binary number, and so the first digit is expected to be the most significant bit and the last digit is expected to be the least significant bit.\n",
    "\n",
    "For example, $ 13 =  \\mathbf{1} \\cdot 2^3 + \\mathbf{1} \\cdot 2^2 + \\mathbf{0} \\cdot 2^1 + \\mathbf{1} \\cdot 2^0 $, which is equal to $ \\mathbf{1101} $ in binary.\n",
    "\n",
    "In this case, $ creg[3] = 1 $, $ creg[2] = 1 $, $ creg[1] = 0 $, and $ creg[0] = 1$. "
   ]
  },
  {
   "cell_type": "markdown",
   "metadata": {},
   "source": [
    "<h3>Pick a random number in python</h3>\n",
    "\n",
    "In the following task, you will be asked to apply x-gate to randomly picked quantum bits.\n",
    "\n",
    "Here is one of the methods to pick a random number in python."
   ]
  },
  {
   "cell_type": "code",
   "execution_count": 13,
   "metadata": {},
   "outputs": [
    {
     "name": "stdout",
     "output_type": "stream",
     "text": [
      "18\n",
      "3\n",
      "4\n",
      "19\n",
      "9\n",
      "13\n",
      "2\n",
      "18\n",
      "13\n",
      "15\n",
      "18\n"
     ]
    }
   ],
   "source": [
    "from random import randrange\n",
    "n = 20\n",
    "r=randrange(n) # pick a number from the list {0,1,...,n-1}\n",
    "print(r)\n",
    "\n",
    "# test this method by using a loop\n",
    "for i in range(10):\n",
    "    print(randrange(n))"
   ]
  },
  {
   "cell_type": "markdown",
   "metadata": {},
   "source": [
    "<h3> Task 2: Randomly picking an 8-bit binary number </h3>\n",
    "\n",
    "Design a quantum circuit with 8 quantum bits and 8 classical bits.\n",
    "\n",
    "For each quantum bit, flip a coin by python, and apply x-gate if the outcome is head.\n",
    "\n",
    "Measure your quantum bits.\n",
    "\n",
    "Execute your circuit 10 times.\n",
    "\n",
    "Repeat this task as much as you want, and enjoy your random choices."
   ]
  },
  {
   "cell_type": "code",
   "execution_count": 18,
   "metadata": {},
   "outputs": [
    {
     "data": {
      "image/png": "[encoded data removed]",
      "text/plain": [
       "<Figure size 723.212x565.88 with 1 Axes>"
      ]
     },
     "execution_count": 18,
     "metadata": {},
     "output_type": "execute_result"
    }
   ],
   "source": [
    "#\n",
    "# your solution is here\n",
    "#\n",
    "q3 =  QuantumRegister(8, \"qreg\")\n",
    "c3 = ClassicalRegister(8, \"creg\")\n",
    "qc3 = QuantumCircuit(q3, c3)\n",
    "\n",
    "for i in range(len(q3)):\n",
    "    if(randrange(2) == 0):\n",
    "        qc3.x(q3[i])\n",
    "\n",
    "qc3.barrier() \n",
    "qc3.measure(q3, c3)\n",
    "\n",
    "qc3.draw(output='mpl', reverse_bits=True)\n"
   ]
  },
  {
   "cell_type": "code",
   "execution_count": 19,
   "metadata": {},
   "outputs": [
    {
     "data": {
      "text/plain": [
       "{'10010011': 10}"
      ]
     },
     "execution_count": 19,
     "metadata": {},
     "output_type": "execute_result"
    }
   ],
   "source": [
    "job = execute(qc3, Aer.get_backend('qasm_simulator'), shots=10)\n",
    "counts = job.result().get_counts(qc3)\n",
    "counts\n"
   ]
  },
  {
   "cell_type": "markdown",
   "metadata": {},
   "source": [
    "[click for our solution](B20_First_Quantum_Programs_by_Qiskit_Solution.ipynb)"
   ]
  }
 ],
 "metadata": {
  "kernelspec": {
   "display_name": "Python 3",
   "language": "python",
   "name": "python3"
  },
  "language_info": {
   "codemirror_mode": {
    "name": "ipython",
    "version": 3
   },
   "file_extension": ".py",
   "mimetype": "text/x-python",
   "name": "python",
   "nbconvert_exporter": "python",
   "pygments_lexer": "ipython3",
   "version": "3.8.3"
  }
 },
 "nbformat": 4,
 "nbformat_minor": 2
}
